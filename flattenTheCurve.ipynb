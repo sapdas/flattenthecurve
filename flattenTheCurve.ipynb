{
  "nbformat": 4,
  "nbformat_minor": 0,
  "metadata": {
    "colab": {
      "name": "flattenTheCurve.ipynb",
      "provenance": [],
      "collapsed_sections": [],
      "authorship_tag": "ABX9TyNkxFnAVsruNsjyxh3+ooex",
      "include_colab_link": true
    },
    "kernelspec": {
      "name": "python3",
      "display_name": "Python 3"
    }
  },
  "cells": [
    {
      "cell_type": "markdown",
      "metadata": {
        "id": "view-in-github",
        "colab_type": "text"
      },
      "source": [
        "<a href=\"https://colab.research.google.com/github/sapdas/flattenthecurve/blob/main/flattenTheCurve.ipynb\" target=\"_parent\"><img src=\"https://colab.research.google.com/assets/colab-badge.svg\" alt=\"Open In Colab\"/></a>"
      ]
    },
    {
      "cell_type": "markdown",
      "metadata": {
        "id": "HzR9fjl-u362"
      },
      "source": [
        "## Agent Based Modeling and simulation - understand how flatten-the-curve works\n",
        "\n",
        "Assumptions:\n",
        "\n",
        "\n",
        "*   The entire population is within 1 unit x 1 unit area\n",
        "*   No influx - reasonable assumption as all countries are locked down\n",
        "*   Everyone will recover (with immunity) - yes, I'm hopeful\n",
        "*   People are not running out of quarantine for 14 days\n"
      ]
    },
    {
      "cell_type": "markdown",
      "metadata": {
        "id": "YLt_7SG4x967"
      },
      "source": [
        "## All variables are set in this block\n",
        "\n",
        "*   NP - size of the population\n",
        "*   NT - Total number of time steps\n",
        "*   NI - number of initially effected individuals\n",
        "*   rCon  - radius of contamination\n",
        "*   sDist - an inverse measure of social distance, controls the variability of random walk  change and see the effect\n",
        "\n"
      ]
    },
    {
      "cell_type": "code",
      "metadata": {
        "id": "1Icb9K7dw8-2"
      },
      "source": [
        "NP = 10000 \n",
        "NT = 25 \n",
        "NI = 20 \n",
        "rCon  = .01\n",
        "sDist = .1 # change this number to see the effect"
      ],
      "execution_count": null,
      "outputs": []
    },
    {
      "cell_type": "markdown",
      "metadata": {
        "id": "YVbcEmt11arJ"
      },
      "source": [
        "## All key library imports"
      ]
    },
    {
      "cell_type": "code",
      "metadata": {
        "id": "LMDbwu6-1RCU"
      },
      "source": [
        "import numpy as np\n",
        "import math as ma \n",
        "import matplotlib.pyplot as plt"
      ],
      "execution_count": null,
      "outputs": []
    },
    {
      "cell_type": "markdown",
      "metadata": {
        "id": "CFJpN7svykpT"
      },
      "source": [
        "## Simulate the initial state of the population"
      ]
    },
    {
      "cell_type": "code",
      "metadata": {
        "id": "LI0lKFenzLfo"
      },
      "source": [
        "# generate random locations\n",
        "x_loc = np.random.uniform(low=0.0, high=1.0, size=NP)\n",
        "y_loc = np.random.uniform(low=0.0, high=1.0, size=NP)\n",
        "# without loss of generality, lets thassume that first NP are infected\n",
        "# those will be idetified and quarantine for 14 days\n",
        "inf = np.zeros(NP)\n",
        "inf[0:NI] = -15*np.ones(NI)\n",
        "infCount = np.zeros(NT)"
      ],
      "execution_count": null,
      "outputs": []
    },
    {
      "cell_type": "markdown",
      "metadata": {
        "id": "GHfKH0n_5m9t"
      },
      "source": [
        "## Time stepping starts here"
      ]
    },
    {
      "cell_type": "code",
      "metadata": {
        "id": "ntIyufyC6KgI"
      },
      "source": [
        "for t in range(NT):\n",
        " \n",
        "  infCount[t] = (inf == -15).sum()\n",
        "  \n",
        "  # find new infected by looping through healthy population \n",
        "  for p in np.where(inf == 0)[0]: \n",
        "    # check distance to at least one infected but not in quarantine\n",
        "    for ip in np.where(inf == -15)[0]:\n",
        "      dist = ma.hypot(x_loc[p] - x_loc[ip], y_loc[p] - y_loc[ip])\n",
        "      if dist <= rCon:  \n",
        "        # mark as infected and break\n",
        "        inf[p] = -16\n",
        "        break\n",
        " \n",
        "  # quarantine for 14 days \n",
        "  for p in np.where(inf <= -1)[0]:\n",
        "    inf[p] = inf[p] + 1 \n",
        " \n",
        "  # move people around thier location with social distancing factor sDist \n",
        "  x_loc = np.mod(x_loc + np.random.normal(loc=0.0, scale=sDist, size=NP), \n",
        "                 np.ones(NP)) \n",
        "  y_loc = np.mod(y_loc + np.random.normal(loc=0.0, scale=sDist, size=NP), \n",
        "                 np.ones(NP))"
      ],
      "execution_count": null,
      "outputs": []
    },
    {
      "cell_type": "markdown",
      "metadata": {
        "id": "RpCs2gtR-pxv"
      },
      "source": [
        "## Print results, plot number of infected over time"
      ]
    },
    {
      "cell_type": "code",
      "metadata": {
        "id": "ae0kAzju-xAA",
        "colab": {
          "base_uri": "https://localhost:8080/",
          "height": 283
        },
        "outputId": "4127dd7d-2985-4a16-eb22-925ec17c4643"
      },
      "source": [
        "plt.plot(infCount)\n",
        "plt.xlabel(\"No of days\")\n",
        "plt.ylabel(\"New number infection on that day\")\n",
        "plt.ylim((0, NP))\n",
        "plt.grid(True)\n",
        "plt.show()"
      ],
      "execution_count": null,
      "outputs": [
        {
          "output_type": "display_data",
          "data": {
            "image/png": "[encoded data removed]",
            "text/plain": [
              "<Figure size 432x288 with 1 Axes>"
            ]
          },
          "metadata": {
            "tags": [],
            "needs_background": "light"
          }
        }
      ]
    }
  ]
}